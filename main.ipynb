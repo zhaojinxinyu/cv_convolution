{
 "cells": [
  {
   "cell_type": "code",
   "execution_count": 2,
   "id": "32fb7687-a098-4586-8e9a-933b7542393c",
   "metadata": {},
   "outputs": [
    {
     "name": "stdout",
     "output_type": "stream",
     "text": [
      "[-5, -5, -5]\n",
      "[-5, -5, -5]\n",
      "[-5, -5, -5]\n"
     ]
    }
   ],
   "source": [
    "def convolve2d(image, kernel):\n",
    "    # 获取图像和卷积核的尺寸\n",
    "    image_height, image_width = len(image), len(image[0])\n",
    "    kernel_height, kernel_width = len(kernel), len(kernel[0])\n",
    "    \n",
    "    # 计算输出的尺寸\n",
    "    output_height = image_height - kernel_height + 1\n",
    "    output_width = image_width - kernel_width + 1\n",
    "    output = [[0] * output_width for _ in range(output_height)]\n",
    "    \n",
    "    # 执行卷积操作\n",
    "    for i in range(output_height):\n",
    "        for j in range(output_width):\n",
    "            sum = 0\n",
    "            for m in range(kernel_height):\n",
    "                for n in range(kernel_width):\n",
    "                    sum += image[i + m][j + n] * kernel[m][n]\n",
    "            output[i][j] = sum\n",
    "    \n",
    "    return output\n",
    "\n",
    "# 测试示例\n",
    "image = [\n",
    "    [1, 2, 3, 4],\n",
    "    [5, 6, 7, 8],\n",
    "    [9, 10, 11, 12],\n",
    "    [13, 14, 15, 16]\n",
    "]\n",
    "\n",
    "kernel = [\n",
    "    [1, 0],\n",
    "    [0, -1]\n",
    "]\n",
    "\n",
    "result = convolve2d(image, kernel)\n",
    "for row in result:\n",
    "    print(row)\n"
   ]
  },
  {
   "cell_type": "code",
   "execution_count": null,
   "id": "ffbd89bd-6bbc-4ecc-9dd1-8575da12d1c8",
   "metadata": {},
   "outputs": [],
   "source": []
  }
 ],
 "metadata": {
  "kernelspec": {
   "display_name": "",
   "name": ""
  },
  "language_info": {
   "name": ""
  }
 },
 "nbformat": 4,
 "nbformat_minor": 5
}
